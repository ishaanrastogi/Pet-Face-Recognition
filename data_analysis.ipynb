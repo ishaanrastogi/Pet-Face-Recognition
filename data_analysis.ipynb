{
 "cells": [
  {
   "cell_type": "markdown",
   "id": "157e5498",
   "metadata": {},
   "source": [
    "# **Small Data Analysis**\n",
    "* What's the total number of images in the dataset.\n",
    "* How many blur and clear images in the dataset by percentage.\n",
    "* Images size distribution."
   ]
  },
  {
   "cell_type": "code",
   "execution_count": 61,
   "id": "a47739a6",
   "metadata": {},
   "outputs": [
    {
     "name": "stderr",
     "output_type": "stream",
     "text": [
      "100%|██████████| 2/2 [00:00<00:00, 28630.06it/s]\n",
      "0it [00:00, ?it/s]\n",
      "100%|██████████| 250/250 [00:00<00:00, 1409.98it/s]\n",
      "100%|██████████| 250/250 [00:00<00:00, 1461.84it/s]\n",
      "100%|██████████| 250/250 [00:00<00:00, 1504.17it/s]\n",
      "100%|██████████| 250/250 [00:00<00:00, 1352.76it/s]\n",
      "0it [00:00, ?it/s]\n",
      "0it [00:00, ?it/s]\n",
      "100%|██████████| 11/11 [00:00<00:00, 1110.41it/s]\n",
      "100%|██████████| 10/10 [00:00<00:00, 1352.65it/s]\n",
      "100%|██████████| 6/6 [00:00<00:00, 1246.88it/s]\n",
      "100%|██████████| 9/9 [00:00<00:00, 1282.23it/s]\n",
      "0it [00:00, ?it/s]\n",
      "100%|██████████| 11/11 [00:00<00:00, 1025.25it/s]\n",
      "100%|██████████| 11/11 [00:00<00:00, 1384.72it/s]\n",
      "100%|██████████| 6/6 [00:00<00:00, 1059.17it/s]\n",
      "100%|██████████| 10/10 [00:00<00:00, 1150.76it/s]\n",
      "0it [00:00, ?it/s]\n",
      "100%|██████████| 250/250 [00:00<00:00, 1303.67it/s]\n",
      "100%|██████████| 250/250 [00:00<00:00, 1356.11it/s]\n",
      "100%|██████████| 250/250 [00:00<00:00, 1424.38it/s]\n",
      "100%|██████████| 250/250 [00:00<00:00, 1416.87it/s]"
     ]
    },
    {
     "name": "stdout",
     "output_type": "stream",
     "text": [
      "Total images: 2074\n",
      "Blurry images: 172 (8.29%)\n",
      "Clear images: 1902 (91.71%)\n",
      "Image size distribution:\n",
      "<10KB: 58 (2.80%)\n",
      "10-20KB: 1198 (57.76%)\n",
      ">=30KB: 70 (3.38%)\n"
     ]
    },
    {
     "name": "stderr",
     "output_type": "stream",
     "text": [
      "\n"
     ]
    }
   ],
   "source": [
    "import os\n",
    "import cv2\n",
    "from tqdm import tqdm\n",
    "\n",
    "def is_blurry(image_path, threshold=100.0):\n",
    "    image = cv2.imread(image_path, cv2.IMREAD_GRAYSCALE)\n",
    "    if image is None:\n",
    "        return None\n",
    "    return cv2.Laplacian(image, cv2.CV_64F).var() < threshold\n",
    "\n",
    "def analyze_dataset(root_folder):\n",
    "    total_images = 0\n",
    "    blurry_images = 0\n",
    "    clear_images = 0\n",
    "    \n",
    "    size_classes = {'<10KB':0, '10-20KB':0, '>=30KB':0}\n",
    "    \n",
    "    for foldername, subfolders, filenames in os.walk(root_folder):\n",
    "        for filename in tqdm(filenames):\n",
    "            if filename.lower().endswith(('.png', '.jpg', '.jpeg', '.bmp', '.webp')):\n",
    "                total_images += 1\n",
    "                filepath = os.path.join(foldername, filename)\n",
    "                \n",
    "                #blurry images detection\n",
    "                blurry = is_blurry(filepath)\n",
    "                if blurry is None:\n",
    "                    continue\n",
    "                if blurry:\n",
    "                    blurry_images +=1\n",
    "                else:\n",
    "                    clear_images +=1\n",
    "                    \n",
    "                # size classification\n",
    "                size_kb = os.path.getsize(filepath)/1024\n",
    "                if size_kb <10:\n",
    "                    size_classes['<10KB'] += 1\n",
    "                elif 10 <= size_kb <20:\n",
    "                    size_classes['10-20KB'] += 1\n",
    "                elif size_kb >= 30:\n",
    "                    size_classes['>=30KB'] += 1\n",
    "                          \n",
    "\n",
    "    print(f\"Total images: {total_images}\") \n",
    "    print(f\"Blurry images: {blurry_images} ({(blurry_images/total_images)*100:.2f}%)\")\n",
    "    print(f\"Clear images: {clear_images} ({(clear_images/total_images)*100:.2f}%)\")\n",
    "    print(\"Image size distribution:\")\n",
    "    for size_class, count in size_classes.items():\n",
    "        print(f\"{size_class}: {count} ({(count/total_images)*100:.2f}%)\")\n",
    "        \n",
    "               \n",
    "analyze_dataset(\"/Users/ishaanrastogi/Desktop/Ishaan_Rastogi/Machine Learning Internship/Datasets\")\n"
   ]
  },
  {
   "cell_type": "markdown",
   "id": "a2c0ad98",
   "metadata": {},
   "source": [
    "Logging the emotion, \n",
    "In our case it's the folder name."
   ]
  },
  {
   "cell_type": "code",
   "execution_count": 62,
   "id": "12e26b53",
   "metadata": {},
   "outputs": [
    {
     "name": "stderr",
     "output_type": "stream",
     "text": [
      "100%|██████████| 2/2 [00:00<00:00, 50231.19it/s]\n",
      "0it [00:00, ?it/s]\n",
      "100%|██████████| 250/250 [00:00<00:00, 2296.42it/s]\n",
      "100%|██████████| 250/250 [00:00<00:00, 2528.72it/s]\n",
      "100%|██████████| 250/250 [00:00<00:00, 2571.36it/s]\n",
      "100%|██████████| 250/250 [00:00<00:00, 2644.59it/s]\n",
      "0it [00:00, ?it/s]\n",
      "0it [00:00, ?it/s]\n",
      "100%|██████████| 11/11 [00:00<00:00, 1887.47it/s]\n",
      "100%|██████████| 10/10 [00:00<00:00, 1812.50it/s]\n",
      "100%|██████████| 6/6 [00:00<00:00, 2193.67it/s]\n",
      "100%|██████████| 9/9 [00:00<00:00, 2097.97it/s]\n",
      "0it [00:00, ?it/s]\n",
      "100%|██████████| 11/11 [00:00<00:00, 1683.29it/s]\n",
      "100%|██████████| 11/11 [00:00<00:00, 1783.98it/s]\n",
      "100%|██████████| 6/6 [00:00<00:00, 1135.28it/s]\n",
      "100%|██████████| 10/10 [00:00<00:00, 1557.60it/s]\n",
      "0it [00:00, ?it/s]\n",
      "100%|██████████| 250/250 [00:00<00:00, 2624.73it/s]\n",
      "100%|██████████| 250/250 [00:00<00:00, 2526.58it/s]\n",
      "100%|██████████| 250/250 [00:00<00:00, 2675.94it/s]\n",
      "100%|██████████| 250/250 [00:00<00:00, 2459.25it/s]\n"
     ]
    },
    {
     "name": "stdout",
     "output_type": "stream",
     "text": [
      "\n",
      "Per-emotion statistics:\n",
      "happy: Total: 522, Blurry: 37 (7.09%), Clear: 485 (92.91%)\n",
      "Sad: Total: 521, Blurry: 51 (9.79%), Clear: 470 (90.21%)\n",
      "Other: Total: 512, Blurry: 48 (9.38%), Clear: 464 (90.62%)\n",
      "Angry: Total: 519, Blurry: 36 (6.94%), Clear: 483 (93.06%)\n",
      "\n",
      "CSV saved as emotion_stats.csv\n"
     ]
    }
   ],
   "source": [
    "import os\n",
    "import cv2\n",
    "import csv\n",
    "from tqdm import tqdm\n",
    "from collections import defaultdict\n",
    "\n",
    "emotion_stats = defaultdict(lambda: {'total': 0, 'blurry': 0, 'clear': 0})\n",
    "\n",
    "def is_blurry(image_path, threshold=100.0):\n",
    "    image = cv2.imread(image_path, cv2.IMREAD_GRAYSCALE)\n",
    "    if image is None:\n",
    "        return None\n",
    "    return cv2.Laplacian(image, cv2.CV_64F).var() < threshold\n",
    "\n",
    "def get_size_class(size_kb):\n",
    "    if size_kb < 10:\n",
    "        return '<10KB'\n",
    "    elif 10 <= size_kb < 20:\n",
    "        return '10-20KB'\n",
    "    elif 20 <= size_kb < 30:\n",
    "        return '20-30KB'\n",
    "    else:\n",
    "        return '>=30KB'\n",
    "\n",
    "# List to store data for CSV\n",
    "image_data_list = []\n",
    "\n",
    "root_folder = \"/Users/ishaanrastogi/Desktop/Ishaan_Rastogi/Machine Learning Internship/Datasets\"\n",
    "\n",
    "for foldername, subfolders, filenames in os.walk(root_folder):\n",
    "    for filename in tqdm(filenames):\n",
    "        if filename.lower().endswith(('.png', '.jpg', '.jpeg', '.bmp', '.webp')):\n",
    "            label = os.path.basename(foldername)\n",
    "            filepath = os.path.join(foldername, filename)\n",
    "\n",
    "            size_kb = os.path.getsize(filepath) / 1024\n",
    "            size_class = get_size_class(size_kb)\n",
    "            blurry = is_blurry(filepath)\n",
    "\n",
    "            if blurry is None:\n",
    "                continue\n",
    "\n",
    "            # Update emotion stats\n",
    "            emotion_stats[label]['total'] += 1\n",
    "            if blurry:\n",
    "                emotion_stats[label]['blurry'] += 1\n",
    "            else:\n",
    "                emotion_stats[label]['clear'] += 1\n",
    "\n",
    "            # Append row data for CSV\n",
    "            image_data_list.append([\n",
    "                os.path.relpath(filepath, root_folder),  # relative path\n",
    "                label,\n",
    "                round(size_kb, 2),\n",
    "                size_class,\n",
    "                blurry\n",
    "            ])\n",
    "\n",
    "# Print per-emotion stats\n",
    "print(\"\\nPer-emotion statistics:\")\n",
    "for emotion, stats in emotion_stats.items():\n",
    "    total = stats['total']\n",
    "    blurry = stats['blurry']\n",
    "    clear = stats['clear']\n",
    "    print(f\"{emotion}: Total: {total}, Blurry: {blurry} ({(blurry/total)*100:.2f}%), Clear: {clear} ({(clear/total)*100:.2f}%)\")\n",
    "\n",
    "# Save to CSV\n",
    "csv_path = \"emotion_stats.csv\"\n",
    "with open(csv_path, 'w', newline='') as csvfile:\n",
    "    writer = csv.writer(csvfile)\n",
    "    writer.writerow([\"Image\", \"Label\", \"Size (KB)\", \"Size_Class\", \"Blurry\"])\n",
    "    writer.writerows(image_data_list)\n",
    "\n",
    "print(f\"\\nCSV saved as {csv_path}\")\n"
   ]
  },
  {
   "cell_type": "markdown",
   "id": "b8961de7",
   "metadata": {},
   "source": [
    "Creating a Machine Learning Model from Scratch\n",
    "Convolutional Neural Network - Selected for this purpose|"
   ]
  },
  {
   "cell_type": "code",
   "execution_count": 63,
   "id": "e638c62c",
   "metadata": {},
   "outputs": [
    {
     "name": "stdout",
     "output_type": "stream",
     "text": [
      "Found 1660 images belonging to 1 classes.\n",
      "Found 414 images belonging to 1 classes.\n"
     ]
    }
   ],
   "source": [
    "import tensorflow as tf\n",
    "from tensorflow.keras.models import Sequential \n",
    "from tensorflow.keras.layers import Conv2D, MaxPooling2D, Flatten, Dense, Dropout\n",
    "from tensorflow.keras.preprocessing.image import ImageDataGenerator\n",
    "\n",
    "\n",
    "# Using image data generator:\n",
    "img_height, img_width = 150, 150\n",
    "batch_size = 32\n",
    "data_dir  = \"/Users/ishaanrastogi/Desktop/Ishaan_Rastogi/Machine Learning Internship/Datasets\"\n",
    "\n",
    "train_datagen = ImageDataGenerator(\n",
    "    rescale=1./255,\n",
    "    validation_split=0.2,\n",
    "    rotation_range=20,\n",
    "    zoom_range=0.2,\n",
    "    horizontal_flip=True\n",
    ")\n",
    "\n",
    "train_generator = train_datagen.flow_from_directory(\n",
    "    data_dir,\n",
    "    target_size=(img_height, img_width),\n",
    "    batch_size=batch_size,\n",
    "    class_mode='categorical',\n",
    "    subset='training'\n",
    ")\n",
    "\n",
    "val_generator = train_datagen.flow_from_directory(\n",
    "    data_dir,\n",
    "    target_size=(img_height, img_width),\n",
    "    batch_size=batch_size,\n",
    "    class_mode='categorical',\n",
    "    subset='validation'\n",
    ")"
   ]
  },
  {
   "cell_type": "code",
   "execution_count": 64,
   "id": "bafeac0f",
   "metadata": {},
   "outputs": [
    {
     "name": "stderr",
     "output_type": "stream",
     "text": [
      "/Users/ishaanrastogi/Desktop/Ishaan_Rastogi/Machine Learning Internship/.venv/lib/python3.9/site-packages/keras/src/layers/convolutional/base_conv.py:113: UserWarning: Do not pass an `input_shape`/`input_dim` argument to a layer. When using Sequential models, prefer using an `Input(shape)` object as the first layer in the model instead.\n",
      "  super().__init__(activity_regularizer=activity_regularizer, **kwargs)\n"
     ]
    }
   ],
   "source": [
    "# Building the CNN Model:\n",
    "\n",
    "model_baseline = Sequential([\n",
    "    Conv2D(32, (3, 3), activation='relu', input_shape=(img_height, img_width, 3)),\n",
    "    MaxPooling2D(pool_size=(2, 2)),\n",
    "\n",
    "    Conv2D(64, (3, 3), activation='relu'),\n",
    "    MaxPooling2D(pool_size=(2, 2)),\n",
    "\n",
    "    Conv2D(128, (3, 3), activation='relu'),\n",
    "    MaxPooling2D(pool_size=(2, 2)),\n",
    "\n",
    "    Flatten(),\n",
    "    Dense(128, activation='relu'),\n",
    "    Dropout(0.3),\n",
    "    Dense(train_generator.num_classes, activation='softmax')\n",
    "])\n"
   ]
  },
  {
   "cell_type": "code",
   "execution_count": 65,
   "id": "77f9e0ee",
   "metadata": {},
   "outputs": [
    {
     "name": "stderr",
     "output_type": "stream",
     "text": [
      "/Users/ishaanrastogi/Desktop/Ishaan_Rastogi/Machine Learning Internship/.venv/lib/python3.9/site-packages/keras/src/trainers/data_adapters/py_dataset_adapter.py:121: UserWarning: Your `PyDataset` class should call `super().__init__(**kwargs)` in its constructor. `**kwargs` can include `workers`, `use_multiprocessing`, `max_queue_size`. Do not pass these arguments to `fit()`, as they will be ignored.\n",
      "  self._warn_if_super_not_called()\n"
     ]
    },
    {
     "name": "stdout",
     "output_type": "stream",
     "text": [
      "Epoch 1/10\n",
      "\u001b[1m52/52\u001b[0m \u001b[32m━━━━━━━━━━━━━━━━━━━━\u001b[0m\u001b[37m\u001b[0m \u001b[1m14s\u001b[0m 246ms/step - accuracy: 1.0000 - loss: 0.0000e+00 - val_accuracy: 1.0000 - val_loss: 0.0000e+00\n",
      "Epoch 2/10\n",
      "\u001b[1m52/52\u001b[0m \u001b[32m━━━━━━━━━━━━━━━━━━━━\u001b[0m\u001b[37m\u001b[0m \u001b[1m12s\u001b[0m 229ms/step - accuracy: 1.0000 - loss: 0.0000e+00 - val_accuracy: 1.0000 - val_loss: 0.0000e+00\n",
      "Epoch 3/10\n",
      "\u001b[1m52/52\u001b[0m \u001b[32m━━━━━━━━━━━━━━━━━━━━\u001b[0m\u001b[37m\u001b[0m \u001b[1m12s\u001b[0m 239ms/step - accuracy: 1.0000 - loss: 0.0000e+00 - val_accuracy: 1.0000 - val_loss: 0.0000e+00\n",
      "Epoch 4/10\n",
      "\u001b[1m52/52\u001b[0m \u001b[32m━━━━━━━━━━━━━━━━━━━━\u001b[0m\u001b[37m\u001b[0m \u001b[1m13s\u001b[0m 246ms/step - accuracy: 1.0000 - loss: 0.0000e+00 - val_accuracy: 1.0000 - val_loss: 0.0000e+00\n",
      "Epoch 5/10\n",
      "\u001b[1m52/52\u001b[0m \u001b[32m━━━━━━━━━━━━━━━━━━━━\u001b[0m\u001b[37m\u001b[0m \u001b[1m12s\u001b[0m 235ms/step - accuracy: 1.0000 - loss: 0.0000e+00 - val_accuracy: 1.0000 - val_loss: 0.0000e+00\n",
      "Epoch 6/10\n",
      "\u001b[1m52/52\u001b[0m \u001b[32m━━━━━━━━━━━━━━━━━━━━\u001b[0m\u001b[37m\u001b[0m \u001b[1m12s\u001b[0m 227ms/step - accuracy: 1.0000 - loss: 0.0000e+00 - val_accuracy: 1.0000 - val_loss: 0.0000e+00\n",
      "Epoch 7/10\n",
      "\u001b[1m52/52\u001b[0m \u001b[32m━━━━━━━━━━━━━━━━━━━━\u001b[0m\u001b[37m\u001b[0m \u001b[1m12s\u001b[0m 230ms/step - accuracy: 1.0000 - loss: 0.0000e+00 - val_accuracy: 1.0000 - val_loss: 0.0000e+00\n",
      "Epoch 8/10\n",
      "\u001b[1m52/52\u001b[0m \u001b[32m━━━━━━━━━━━━━━━━━━━━\u001b[0m\u001b[37m\u001b[0m \u001b[1m12s\u001b[0m 234ms/step - accuracy: 1.0000 - loss: 0.0000e+00 - val_accuracy: 1.0000 - val_loss: 0.0000e+00\n",
      "Epoch 9/10\n",
      "\u001b[1m52/52\u001b[0m \u001b[32m━━━━━━━━━━━━━━━━━━━━\u001b[0m\u001b[37m\u001b[0m \u001b[1m12s\u001b[0m 227ms/step - accuracy: 1.0000 - loss: 0.0000e+00 - val_accuracy: 1.0000 - val_loss: 0.0000e+00\n",
      "Epoch 10/10\n",
      "\u001b[1m52/52\u001b[0m \u001b[32m━━━━━━━━━━━━━━━━━━━━\u001b[0m\u001b[37m\u001b[0m \u001b[1m12s\u001b[0m 234ms/step - accuracy: 1.0000 - loss: 0.0000e+00 - val_accuracy: 1.0000 - val_loss: 0.0000e+00\n"
     ]
    },
    {
     "name": "stderr",
     "output_type": "stream",
     "text": [
      "WARNING:absl:You are saving your model as an HDF5 file via `model.save()` or `keras.saving.save_model(model)`. This file format is considered legacy. We recommend using instead the native Keras format, e.g. `model.save('my_model.keras')` or `keras.saving.save_model(model, 'my_model.keras')`. \n"
     ]
    }
   ],
   "source": [
    "import tensorflow as tf\n",
    "import datetime\n",
    "log_dir = \"logs/fit/\" + datetime.datetime.now().strftime(\"%Y%m%d-%H%M%S\")\n",
    "tensorboard_callback = tf.keras.callbacks.TensorBoard(log_dir=log_dir, histogram_freq=1)\n",
    "# Compiling the model:\n",
    "model_baseline.compile(optimizer='adam',\n",
    "              loss='categorical_crossentropy',\n",
    "              metrics=['accuracy'])\n",
    "\n",
    "history = model_baseline.fit(\n",
    "    train_generator, \n",
    "    epochs = 10,\n",
    "    validation_data = val_generator,\n",
    "    callbacks = [tensorboard_callback]\n",
    ")\n",
    "\n",
    "# Saving the model:\n",
    "\n",
    "model_baseline.save(\"Pet's Facial Expression Recognition.h5\")"
   ]
  },
  {
   "cell_type": "markdown",
   "id": "8426ecb0",
   "metadata": {},
   "source": [
    "### **EVALUATING THE CNN MODEL**"
   ]
  },
  {
   "cell_type": "code",
   "execution_count": 66,
   "id": "286117d1",
   "metadata": {},
   "outputs": [
    {
     "name": "stdout",
     "output_type": "stream",
     "text": [
      "\u001b[1m13/13\u001b[0m \u001b[32m━━━━━━━━━━━━━━━━━━━━\u001b[0m\u001b[37m\u001b[0m \u001b[1m1s\u001b[0m 105ms/step - accuracy: 1.0000 - loss: 0.0000e+00\n",
      "\n",
      "Validation Loss: 0.0000, \n",
      "Validation Accuracy: 1.0000\n"
     ]
    }
   ],
   "source": [
    "loss, accuracy = model_baseline.evaluate(val_generator)\n",
    "print(f\"\\nValidation Loss: {loss:.4f}, \\nValidation Accuracy: {accuracy:.4f}\")\n",
    "    \n"
   ]
  },
  {
   "cell_type": "code",
   "execution_count": 67,
   "id": "e9aa6c9c",
   "metadata": {},
   "outputs": [
    {
     "name": "stdout",
     "output_type": "stream",
     "text": [
      "\u001b[1m 2/13\u001b[0m \u001b[32m━━━\u001b[0m\u001b[37m━━━━━━━━━━━━━━━━━\u001b[0m \u001b[1m0s\u001b[0m 72ms/step "
     ]
    },
    {
     "name": "stderr",
     "output_type": "stream",
     "text": [
      "/Users/ishaanrastogi/Desktop/Ishaan_Rastogi/Machine Learning Internship/.venv/lib/python3.9/site-packages/keras/src/ops/nn.py:944: UserWarning: You are using a softmax over axis -1 of a tensor of shape (32, 1). This axis has size 1. The softmax operation will always return the value 1, which is likely not what you intended. Did you mean to use a sigmoid instead?\n",
      "  warnings.warn(\n"
     ]
    },
    {
     "name": "stdout",
     "output_type": "stream",
     "text": [
      "\u001b[1m13/13\u001b[0m \u001b[32m━━━━━━━━━━━━━━━━━━━━\u001b[0m\u001b[37m\u001b[0m \u001b[1m1s\u001b[0m 94ms/step\n",
      "Classification Report:\n",
      "                                  precision    recall  f1-score   support\n",
      "\n",
      "Facial Expression Image Dataset       1.00      1.00      1.00       414\n",
      "\n",
      "                       accuracy                           1.00       414\n",
      "                      macro avg       1.00      1.00      1.00       414\n",
      "                   weighted avg       1.00      1.00      1.00       414\n",
      "\n"
     ]
    }
   ],
   "source": [
    "import numpy as np\n",
    "from sklearn.metrics import classification_report, confusion_matrix\n",
    "\n",
    "# PRedicting on test data:\n",
    "y_true = val_generator.classes\n",
    "y_pred = model_baseline.predict(val_generator)\n",
    "y_pred_labels = np.argmax(y_pred, axis=1)\n",
    "\n",
    "# Generating classification report:\n",
    "report = classification_report(y_true, y_pred_labels, target_names=val_generator.class_indices.keys())\n",
    "print(\"Classification Report:\\n\", report)\n",
    "\n"
   ]
  },
  {
   "cell_type": "code",
   "execution_count": 68,
   "id": "78aed5a0",
   "metadata": {},
   "outputs": [
    {
     "name": "stdout",
     "output_type": "stream",
     "text": [
      "\u001b[1m1/1\u001b[0m \u001b[32m━━━━━━━━━━━━━━━━━━━━\u001b[0m\u001b[37m\u001b[0m \u001b[1m0s\u001b[0m 50ms/step\n",
      "Predicted class probabilities: 0\n",
      "Predicted class: Facial Expression Image Dataset\n"
     ]
    },
    {
     "name": "stderr",
     "output_type": "stream",
     "text": [
      "/Users/ishaanrastogi/Desktop/Ishaan_Rastogi/Machine Learning Internship/.venv/lib/python3.9/site-packages/keras/src/ops/nn.py:944: UserWarning: You are using a softmax over axis -1 of a tensor of shape (1, 1). This axis has size 1. The softmax operation will always return the value 1, which is likely not what you intended. Did you mean to use a sigmoid instead?\n",
      "  warnings.warn(\n"
     ]
    }
   ],
   "source": [
    "# Testing the model with a new image:\n",
    "from tensorflow.keras.preprocessing import image\n",
    "import numpy as np\n",
    "\n",
    "img_path = \"/Users/ishaanrastogi/Desktop/Ishaan_Rastogi/Machine Learning Internship/Programs/test_image.jpg\"\n",
    "img = image.load_img(img_path, target_size=(img_height, img_width))\n",
    "img_array = image.img_to_array(img)\n",
    "img_array = np.expand_dims(img_array, axis=0)\n",
    "img_array /= 255.0  # Rescale the image or normalizing it\n",
    "\n",
    "# Predicting the class:\n",
    "predictions = model_baseline.predict(img_array)\n",
    "predicted_index = np.argmax(predictions[0])\n",
    "print(\"Predicted class probabilities:\", predicted_index)\n",
    "\n",
    "# Mapping it to the class name:\n",
    "class_labels = list(train_generator.class_indices.keys())\n",
    "predicted_class = class_labels[predicted_index]\n",
    "print(\"Predicted class:\", predicted_class)"
   ]
  },
  {
   "cell_type": "markdown",
   "id": "54474816",
   "metadata": {},
   "source": [
    "#### **Architecture - Flow Diagram**"
   ]
  },
  {
   "cell_type": "code",
   "execution_count": 69,
   "id": "2e3ba0eb",
   "metadata": {},
   "outputs": [
    {
     "data": {
      "image/png": "[encoded data removed]",
      "text/plain": [
       "<Figure size 1200x200 with 1 Axes>"
      ]
     },
     "metadata": {},
     "output_type": "display_data"
    }
   ],
   "source": [
    "import matplotlib.pyplot as plt\n",
    "\n",
    "layers = ['Input\\n(128*128*3)', 'Conv2D\\n(32filters)', 'MaxPooling2D',\n",
    "          'Conv2D\\n(64 filters)', 'MaxPlooling2D',\n",
    "          'Flatten', 'Dense (128)', 'Dropout', 'Output\\n (Softmax)']\n",
    "\n",
    "\n",
    "fig, ax = plt.subplots(figsize=(12, 2))\n",
    "for i, layer in enumerate(layers):\n",
    "    ax.text(i, 0.5, layer, ha='center', va='center', fontsize=12, bbox=dict(facecolor='lightblue', edgecolor='black', boxstyle='round,pad=0.5'))\n",
    "    if i< len(layers) - 1:\n",
    "        ax.annotate('', xy=(i + 0.5, 0.5), xytext=(i + 1, 0.5),\n",
    "                    arrowprops=dict(arrowstyle='->', lw=1.5, color='black'))\n",
    "ax.set_xlim(-0.5, len(layers) - 0.5)\n",
    "ax.set_ylim(0, 1)\n",
    "ax.axis('off')\n",
    "plt.title('CNN Architecture for Pet Facial Expression Recognition', fontsize=16)\n",
    "plt.show()"
   ]
  },
  {
   "cell_type": "markdown",
   "id": "d12004cc",
   "metadata": {},
   "source": [
    "## **CREATING ANOTHER ML MODEL FOR PET'S FACE RECOGNITION**"
   ]
  },
  {
   "cell_type": "markdown",
   "id": "f8a4e612",
   "metadata": {},
   "source": [
    "MobileNetV2 is a lightweight, accurate and easy to use machine learning model."
   ]
  },
  {
   "cell_type": "code",
   "execution_count": null,
   "id": "1b9b9676",
   "metadata": {},
   "outputs": [
    {
     "name": "stdout",
     "output_type": "stream",
     "text": [
      "Found 1660 images belonging to 5 classes.\n",
      "Found 414 images belonging to 5 classes.\n"
     ]
    },
    {
     "name": "stderr",
     "output_type": "stream",
     "text": [
      "/Users/ishaanrastogi/Desktop/Ishaan_Rastogi/Machine Learning Internship/.venv/lib/python3.9/site-packages/keras/src/trainers/data_adapters/py_dataset_adapter.py:121: UserWarning: Your `PyDataset` class should call `super().__init__(**kwargs)` in its constructor. `**kwargs` can include `workers`, `use_multiprocessing`, `max_queue_size`. Do not pass these arguments to `fit()`, as they will be ignored.\n",
      "  self._warn_if_super_not_called()\n"
     ]
    },
    {
     "name": "stdout",
     "output_type": "stream",
     "text": [
      "Epoch 1/20\n",
      "\u001b[1m51/51\u001b[0m \u001b[32m━━━━━━━━━━━━━━━━━━━━\u001b[0m\u001b[37m\u001b[0m \u001b[1m17s\u001b[0m 281ms/step - accuracy: 0.3929 - loss: 1.6187 - val_accuracy: 0.4635 - val_loss: 1.4225\n",
      "Epoch 2/20\n",
      "\u001b[1m 1/51\u001b[0m \u001b[37m━━━━━━━━━━━━━━━━━━━━\u001b[0m \u001b[1m10s\u001b[0m 213ms/step - accuracy: 0.5312 - loss: 1.2286"
     ]
    },
    {
     "name": "stderr",
     "output_type": "stream",
     "text": [
      "/Users/ishaanrastogi/Desktop/Ishaan_Rastogi/Machine Learning Internship/.venv/lib/python3.9/site-packages/keras/src/trainers/epoch_iterator.py:116: UserWarning: Your input ran out of data; interrupting training. Make sure that your dataset or generator can generate at least `steps_per_epoch * epochs` batches. You may need to use the `.repeat()` function when building your dataset.\n",
      "  self._interrupted_warning()\n"
     ]
    },
    {
     "name": "stdout",
     "output_type": "stream",
     "text": [
      "\u001b[1m51/51\u001b[0m \u001b[32m━━━━━━━━━━━━━━━━━━━━\u001b[0m\u001b[37m\u001b[0m \u001b[1m3s\u001b[0m 55ms/step - accuracy: 0.5312 - loss: 1.2286 - val_accuracy: 0.4922 - val_loss: 1.3970\n",
      "Epoch 3/20\n",
      "\u001b[1m51/51\u001b[0m \u001b[32m━━━━━━━━━━━━━━━━━━━━\u001b[0m\u001b[37m\u001b[0m \u001b[1m13s\u001b[0m 255ms/step - accuracy: 0.4614 - loss: 1.4431 - val_accuracy: 0.4271 - val_loss: 1.3887\n",
      "Epoch 4/20\n",
      "\u001b[1m51/51\u001b[0m \u001b[32m━━━━━━━━━━━━━━━━━━━━\u001b[0m\u001b[37m\u001b[0m \u001b[1m3s\u001b[0m 57ms/step - accuracy: 0.6250 - loss: 1.0113 - val_accuracy: 0.4297 - val_loss: 1.3625\n",
      "Epoch 5/20\n",
      "\u001b[1m51/51\u001b[0m \u001b[32m━━━━━━━━━━━━━━━━━━━━\u001b[0m\u001b[37m\u001b[0m \u001b[1m13s\u001b[0m 251ms/step - accuracy: 0.4563 - loss: 1.4174 - val_accuracy: 0.4401 - val_loss: 1.3492\n",
      "Epoch 6/20\n",
      "\u001b[1m51/51\u001b[0m \u001b[32m━━━━━━━━━━━━━━━━━━━━\u001b[0m\u001b[37m\u001b[0m \u001b[1m3s\u001b[0m 51ms/step - accuracy: 0.4688 - loss: 1.4295 - val_accuracy: 0.4115 - val_loss: 1.3642\n",
      "Epoch 7/20\n",
      "\u001b[1m51/51\u001b[0m \u001b[32m━━━━━━━━━━━━━━━━━━━━\u001b[0m\u001b[37m\u001b[0m \u001b[1m14s\u001b[0m 269ms/step - accuracy: 0.4923 - loss: 1.3476 - val_accuracy: 0.4479 - val_loss: 1.3651\n",
      "Epoch 8/20\n",
      "\u001b[1m51/51\u001b[0m \u001b[32m━━━━━━━━━━━━━━━━━━━━\u001b[0m\u001b[37m\u001b[0m \u001b[1m3s\u001b[0m 53ms/step - accuracy: 0.3125 - loss: 1.3294 - val_accuracy: 0.4167 - val_loss: 1.4062\n",
      "Epoch 9/20\n",
      "\u001b[1m51/51\u001b[0m \u001b[32m━━━━━━━━━━━━━━━━━━━━\u001b[0m\u001b[37m\u001b[0m \u001b[1m13s\u001b[0m 259ms/step - accuracy: 0.4987 - loss: 1.3142 - val_accuracy: 0.4089 - val_loss: 1.3155\n",
      "Epoch 10/20\n",
      "\u001b[1m51/51\u001b[0m \u001b[32m━━━━━━━━━━━━━━━━━━━━\u001b[0m\u001b[37m\u001b[0m \u001b[1m3s\u001b[0m 59ms/step - accuracy: 0.5312 - loss: 1.3783 - val_accuracy: 0.4062 - val_loss: 1.2969\n",
      "Epoch 11/20\n",
      "\u001b[1m51/51\u001b[0m \u001b[32m━━━━━━━━━━━━━━━━━━━━\u001b[0m\u001b[37m\u001b[0m \u001b[1m14s\u001b[0m 269ms/step - accuracy: 0.4905 - loss: 1.3284 - val_accuracy: 0.4193 - val_loss: 1.3379\n",
      "Epoch 12/20\n",
      "\u001b[1m51/51\u001b[0m \u001b[32m━━━━━━━━━━━━━━━━━━━━\u001b[0m\u001b[37m\u001b[0m \u001b[1m3s\u001b[0m 52ms/step - accuracy: 0.4062 - loss: 1.8007 - val_accuracy: 0.4323 - val_loss: 1.3345\n",
      "Epoch 13/20\n",
      "\u001b[1m51/51\u001b[0m \u001b[32m━━━━━━━━━━━━━━━━━━━━\u001b[0m\u001b[37m\u001b[0m \u001b[1m14s\u001b[0m 272ms/step - accuracy: 0.4297 - loss: 1.3390 - val_accuracy: 0.4557 - val_loss: 1.2660\n",
      "Epoch 14/20\n",
      "\u001b[1m51/51\u001b[0m \u001b[32m━━━━━━━━━━━━━━━━━━━━\u001b[0m\u001b[37m\u001b[0m \u001b[1m3s\u001b[0m 57ms/step - accuracy: 0.4375 - loss: 1.2962 - val_accuracy: 0.4453 - val_loss: 1.2880\n",
      "Epoch 15/20\n",
      "\u001b[1m51/51\u001b[0m \u001b[32m━━━━━━━━━━━━━━━━━━━━\u001b[0m\u001b[37m\u001b[0m \u001b[1m14s\u001b[0m 269ms/step - accuracy: 0.4861 - loss: 1.2969 - val_accuracy: 0.4245 - val_loss: 1.2923\n",
      "Epoch 16/20\n",
      "\u001b[1m51/51\u001b[0m \u001b[32m━━━━━━━━━━━━━━━━━━━━\u001b[0m\u001b[37m\u001b[0m \u001b[1m3s\u001b[0m 53ms/step - accuracy: 0.5000 - loss: 1.4174 - val_accuracy: 0.4375 - val_loss: 1.2857\n",
      "Epoch 17/20\n",
      "\u001b[1m51/51\u001b[0m \u001b[32m━━━━━━━━━━━━━━━━━━━━\u001b[0m\u001b[37m\u001b[0m \u001b[1m15s\u001b[0m 289ms/step - accuracy: 0.4706 - loss: 1.2870 - val_accuracy: 0.4010 - val_loss: 1.2830\n",
      "Epoch 18/20\n",
      "\u001b[1m51/51\u001b[0m \u001b[32m━━━━━━━━━━━━━━━━━━━━\u001b[0m\u001b[37m\u001b[0m \u001b[1m3s\u001b[0m 60ms/step - accuracy: 0.4375 - loss: 1.2297 - val_accuracy: 0.3984 - val_loss: 1.2859\n",
      "Epoch 19/20\n",
      "\u001b[1m30/51\u001b[0m \u001b[32m━━━━━━━━━━━\u001b[0m\u001b[37m━━━━━━━━━\u001b[0m \u001b[1m5s\u001b[0m 242ms/step - accuracy: 0.5018 - loss: 1.2465"
     ]
    }
   ],
   "source": [
    "import tensorflow as tf\n",
    "from tensorflow.keras.applications import MobileNetV2\n",
    "from tensorflow.keras.models import Sequential\n",
    "from tensorflow.keras.layers import GlobalAveragePooling2D, Dense\n",
    "from tensorflow.keras.preprocessing.image import ImageDataGenerator\n",
    "\n",
    "# Defining paths and hyperparameters\n",
    "data_dir = \"/Users/ishaanrastogi/Desktop/Ishaan_Rastogi/Machine Learning Internship/Datasets/Facial Expression Image Dataset\"\n",
    "\n",
    "img_height, img_width = 224, 224\n",
    "\n",
    "batch_size = 32\n",
    "\n",
    "# Data preparation with Validation split\n",
    "datagen = ImageDataGenerator(\n",
    "    rescale=1./255,\n",
    "    validation_split=0.2,\n",
    "    rotation_range=20,\n",
    "    zoom_range=0.2,\n",
    "    horizontal_flip=True\n",
    ")\n",
    "train_generator = datagen.flow_from_directory(\n",
    "    \"/Users/ishaanrastogi/Desktop/Ishaan_Rastogi/Machine Learning Internship/Datasets/Facial Expression Image Dataset\",\n",
    "    target_size=(224, 224),\n",
    "    batch_size=32,\n",
    "    class_mode='categorical',\n",
    "    subset='training'\n",
    ")\n",
    "\n",
    "val_generator = datagen.flow_from_directory(\n",
    "   \"/Users/ishaanrastogi/Desktop/Ishaan_Rastogi/Machine Learning Internship/Datasets/Facial Expression Image Dataset\",\n",
    "    target_size=(224, 224),\n",
    "    batch_size=32,\n",
    "    class_mode='categorical',\n",
    "    subset='validation'\n",
    ")\n",
    "\n",
    "\n",
    "# Loading the pretrained MobileNetV2 model:\n",
    "base_model = MobileNetV2(weights='imagenet', include_top=False, input_shape=(img_height, img_width, 3))\n",
    "\n",
    "base_model.trainable = False  # Freeze the base model\n",
    "\n",
    "# Building the model:\n",
    "model = Sequential([\n",
    "    base_model,\n",
    "    GlobalAveragePooling2D(),\n",
    "    Dropout(0.3),  \n",
    "    Dense(train_generator.num_classes, activation='softmax')\n",
    "])\n",
    "\n",
    "# Compiling the model:\n",
    "model.compile(optimizer=tf.keras.optimizers.Adamax(learning_rate=0.001),\n",
    "              loss='categorical_crossentropy',\n",
    "              metrics=['accuracy'])\n",
    "\n",
    "steps_per_epoch = train_generator.samples // train_generator.batch_size\n",
    "validation_steps = val_generator.samples // val_generator.batch_size\n",
    "\n",
    "\n",
    "# Training the model:\n",
    "model.fit(\n",
    "    train_generator,\n",
    "    epochs=20,\n",
    "    steps_per_epoch=steps_per_epoch,\n",
    "    validation_data=val_generator,\n",
    "    validation_steps=validation_steps\n",
    ")\n",
    "\n",
    "\n",
    "# Saving the model:\n",
    "model.save(\"Pet_Facial_Expression_Recognition_MobileNetV2.h5\")\n"
   ]
  },
  {
   "cell_type": "markdown",
   "id": "74c79bfb",
   "metadata": {},
   "source": [
    "### Evaluating the MobileNetV2 Model "
   ]
  },
  {
   "cell_type": "code",
   "execution_count": null,
   "id": "ae2511ec",
   "metadata": {},
   "outputs": [
    {
     "name": "stdout",
     "output_type": "stream",
     "text": [
      "\u001b[1m13/13\u001b[0m \u001b[32m━━━━━━━━━━━━━━━━━━━━\u001b[0m\u001b[37m\u001b[0m \u001b[1m3s\u001b[0m 216ms/step - accuracy: 0.4088 - loss: 1.3023\n",
      "\n",
      "Validation Loss: 1.2684, \n",
      "Validation Accuracy: 0.4300\n",
      "\u001b[1m13/13\u001b[0m \u001b[32m━━━━━━━━━━━━━━━━━━━━\u001b[0m\u001b[37m\u001b[0m \u001b[1m4s\u001b[0m 254ms/step\n",
      "Classification Report:\n",
      "                precision    recall  f1-score   support\n",
      "\n",
      "        Angry       0.12      0.24      0.16        50\n",
      "Master Folder       0.50      0.72      0.59       214\n",
      "        Other       0.20      0.02      0.04        50\n",
      "          Sad       0.50      0.02      0.04        50\n",
      "        happy       0.00      0.00      0.00        50\n",
      "\n",
      "     accuracy                           0.41       414\n",
      "    macro avg       0.27      0.20      0.17       414\n",
      " weighted avg       0.36      0.41      0.34       414\n",
      "\n"
     ]
    }
   ],
   "source": [
    "# Evaluating the model:\n",
    "loss, accuracy = model.evaluate(val_generator)\n",
    "print(f\"\\nValidation Loss: {loss:.4f}, \\nValidation Accuracy: {accuracy:.4f}\")\n",
    "# Predicting on validation data:\n",
    "y_true = val_generator.classes\n",
    "y_pred = model.predict(val_generator)\n",
    "y_pred_labels = np.argmax(y_pred, axis=1)\n",
    "# Generating classification report:         \n",
    "report = classification_report(y_true, y_pred_labels, target_names=val_generator.class_indices.keys())\n",
    "print(\"Classification Report:\\n\", report)"
   ]
  },
  {
   "cell_type": "markdown",
   "id": "89abde7d",
   "metadata": {},
   "source": [
    "## Trying out if it predicts"
   ]
  },
  {
   "cell_type": "code",
   "execution_count": null,
   "id": "c7646190",
   "metadata": {},
   "outputs": [
    {
     "name": "stdout",
     "output_type": "stream",
     "text": [
      "\u001b[1m1/1\u001b[0m \u001b[32m━━━━━━━━━━━━━━━━━━━━\u001b[0m\u001b[37m\u001b[0m \u001b[1m0s\u001b[0m 486ms/step\n",
      "Predicted class probabilities: 1\n",
      "Predicted class: Master Folder\n"
     ]
    }
   ],
   "source": [
    "# Testing the model with a new image:\n",
    "from tensorflow.keras.preprocessing import image\n",
    "import numpy as np\n",
    "\n",
    "img_path = \"/Users/ishaanrastogi/Desktop/Ishaan_Rastogi/Machine Learning Internship/Programs/test_image.jpg\"\n",
    "img = image.load_img(img_path, target_size=(img_height, img_width))\n",
    "img_array = image.img_to_array(img)\n",
    "img_array = np.expand_dims(img_array, axis=0)\n",
    "img_array /= 255.0  # Rescale the image or normalizing it\n",
    "\n",
    "# Predicting the class:\n",
    "predictions = model.predict(img_array)\n",
    "predicted_index = np.argmax(predictions[0])\n",
    "print(\"Predicted class probabilities:\", predicted_index)\n",
    "\n",
    "# Mapping it to the class name:\n",
    "class_labels = list(train_generator.class_indices.keys())\n",
    "predicted_class = class_labels[predicted_index]\n",
    "print(\"Predicted class:\", predicted_class)"
   ]
  }
 ],
 "metadata": {
  "kernelspec": {
   "display_name": ".venv",
   "language": "python",
   "name": "python3"
  },
  "language_info": {
   "codemirror_mode": {
    "name": "ipython",
    "version": 3
   },
   "file_extension": ".py",
   "mimetype": "text/x-python",
   "name": "python",
   "nbconvert_exporter": "python",
   "pygments_lexer": "ipython3",
   "version": "3.9.6"
  }
 },
 "nbformat": 4,
 "nbformat_minor": 5
}
